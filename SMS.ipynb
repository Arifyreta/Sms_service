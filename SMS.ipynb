{
 "cells": [
  {
   "cell_type": "code",
   "execution_count": 86,
   "id": "ddba4fc4-50c2-4e92-b3ad-c4146205c927",
   "metadata": {},
   "outputs": [],
   "source": [
    "import toml\n",
    "#Создаём файл конфигурации в формате TOML\n",
    "data_dict = {\n",
    "    \"SMS_SERVICE\": {\n",
    "        \"url\": \"http://localhost:4010\",\n",
    "        \"username\": \"Valera\",\n",
    "        \"password\": \"1234qwerty\"\n",
    "    }\n",
    "}\n",
    "\n",
    "with open('config.toml', 'w') as file:\n",
    "    toml.dump(data_dict, file)"
   ]
  },
  {
   "cell_type": "code",
   "execution_count": 87,
   "id": "87de2df9-60d0-4903-b73f-fcb5902b3f50",
   "metadata": {},
   "outputs": [],
   "source": [
    "from typing import Self\n",
    "#Создаём класс представляющий HTTP-запрос\n",
    "class HTTPRequest:\n",
    "    def __init__(self, method, url, headers, body):\n",
    "        self.method = method\n",
    "        self.url = url\n",
    "        self.headers = headers\n",
    "        self.body = body\n",
    "\n",
    "    def to_bytes(self) -> bytes:\n",
    "        headers = \"\\r\\n\".join(f\"{k}: {v}\" for k, v in self.headers.items())\n",
    "        #print(f\"{self.method} {self.url} HTTP/1.1\\r\\n{headers}\\r\\n\\r\\n{self.body}\")\n",
    "        return f\"{self.method} {self.url} HTTP/1.1\\r\\n{headers}\\r\\n\\r\\n{self.body}\".encode()\n",
    "\n",
    "#Создаём класс представляющий HTTP-ответ  \n",
    "class HTTPResponse:\n",
    "    def __init__(self, status_code, headers, body):\n",
    "        self.status_code = status_code\n",
    "        self.headers = headers\n",
    "        self.body = body\n",
    "\n",
    "    @classmethod\n",
    "    def from_bytes(cls,binary_data: bytes) -> Self:\n",
    "        # Реализация преобразования байт в объект HTTPResponse\n",
    "        headers_part, body = binary_data.split(b\"\\r\\n\\r\\n\", 1)\n",
    "        \n",
    "        headers = headers_part.decode().split(\"\\r\\n\")\n",
    "        status_line = headers[0]\n",
    "        status_code = status_line.split(\" \", 2)\n",
    "        \n",
    "        header_dict = {}\n",
    "        for line in headers[1:]:\n",
    "            if line:\n",
    "                key, value = line.split(\": \", 1)\n",
    "                header_dict[key] = value\n",
    "        body=body.decode()\n",
    "        return cls(status_code,header_dict,body)\n"
   ]
  },
  {
   "cell_type": "code",
   "execution_count": 88,
   "id": "6f511d9d-218d-4b9e-9133-7233f377512b",
   "metadata": {},
   "outputs": [],
   "source": [
    "import logging\n",
    "#Логирование в файл\n",
    "logging.basicConfig(level=logging.INFO, filename=\"py_log.log\",filemode=\"w\",\n",
    "                    format=\"%(asctime)s %(levelname)s %(message)s\")"
   ]
  },
  {
   "cell_type": "code",
   "execution_count": 89,
   "id": "583c1ccb-b747-415f-82c3-e760281f12a5",
   "metadata": {},
   "outputs": [],
   "source": [
    "import socket\n",
    "#Реализация передачи HTTP-запроса и получения HTTP-ответа\n",
    "def send_request(request: HTTPRequest) -> HTTPResponse:\n",
    "    try:\n",
    "        with socket.socket(socket.AF_INET, socket.SOCK_STREAM) as s:\n",
    "            s.connect((\"localhost\", 4010))\n",
    "            s.sendall(request.to_bytes())\n",
    "            data = s.recv(4096)\n",
    "        return HTTPResponse.from_bytes(data)\n",
    "    except socket.error as e:\n",
    "        logging.error(f\"Socket error: {e}\")\n",
    "        raise"
   ]
  },
  {
   "cell_type": "code",
   "execution_count": 90,
   "id": "60acb0db-4404-45fa-93f1-e55a33672480",
   "metadata": {},
   "outputs": [],
   "source": [
    "import toml\n",
    "#Загружаем данные из файла конфигурации\n",
    "def load_config():\n",
    "    with open('config.toml','r') as f:\n",
    "        return toml.load(f)"
   ]
  },
  {
   "cell_type": "code",
   "execution_count": 94,
   "id": "8eec788c-6043-4bb2-9378-00e463866b08",
   "metadata": {},
   "outputs": [
    {
     "name": "stdout",
     "output_type": "stream",
     "text": [
      "Enter the sender of the recipient and the message\n",
      "\n"
     ]
    },
    {
     "name": "stdin",
     "output_type": "stream",
     "text": [
      " 99 98 \n"
     ]
    },
    {
     "name": "stdout",
     "output_type": "stream",
     "text": [
      "Status Code: ['HTTP/1.1', '400', 'Bad Request']\n",
      "Response Body: \n"
     ]
    }
   ],
   "source": [
    "import json\n",
    "import base64\n",
    "def main():\n",
    "    print(\"Enter the sender of the recipient and the message\\r\\n\")\n",
    "    data=input()\n",
    "    try:\n",
    "        data_split=data.split(' ',2)\n",
    "        if len(data_split) != 3:\n",
    "            raise ValueError(\"Invalid input format. Expected: sender recipient message\")\n",
    "        sender, recipient, message = data_split\n",
    "        if not sender or not recipient or not message:\n",
    "            logging.error(\"One of the fields is empty\")\n",
    "        else:\n",
    "            logging.info(f\"Sender: {sender}, Recipient: {recipient}, Message: {message}\")\n",
    "    except ValueError:\n",
    "        logging.error(\"An empty line has been entered\")\n",
    "    \n",
    "    \n",
    "    config = load_config()\n",
    "    sms_service = config[\"SMS_SERVICE\"]\n",
    "\n",
    "    request = HTTPRequest(\n",
    "        method=\"POST\",\n",
    "        url=\"/send_sms\",\n",
    "        headers={\n",
    "            \"Host\": \"localhost:4010\",\n",
    "            \"Authorization\": f\"Basic {base64.b64encode(f'{sms_service['username']}:{sms_service['password']}'.encode()).decode()}\",\n",
    "            \"Content-Type\": \"application/json\"\n",
    "        },\n",
    "        body=json.dumps({\n",
    "            \"sender\": data_split[0],\n",
    "            \"recipient\": data_split[1],\n",
    "            \"message\": data_split[2]\n",
    "        })\n",
    "        \n",
    "    )\n",
    "\n",
    "    response = send_request(request)\n",
    "    headers= \"\\r\\n\".join(f\"{k}: {v}\" for k, v in request.headers.items())\n",
    "    logging.info(f\"HTTP-Request:\\r\\n{request.method} {request.url} HTTP/1.1\\r\\n{headers}\\r\\n\\r\\n{request.body}\\r\\n\")\n",
    "    logging.info(f\"HTTP-Response:\\r\\n{response.status_code}\\r\\n{response.body}\")\n",
    "    print(f\"Status Code: {response.status_code}\")\n",
    "    print(f\"Response Body: {response.body}\")\n",
    "\n",
    "main()"
   ]
  },
  {
   "cell_type": "code",
   "execution_count": null,
   "id": "d92480ef-068f-44e5-8e71-462dbabea0a4",
   "metadata": {},
   "outputs": [],
   "source": []
  }
 ],
 "metadata": {
  "kernelspec": {
   "display_name": "Python 3 (ipykernel)",
   "language": "python",
   "name": "python3"
  },
  "language_info": {
   "codemirror_mode": {
    "name": "ipython",
    "version": 3
   },
   "file_extension": ".py",
   "mimetype": "text/x-python",
   "name": "python",
   "nbconvert_exporter": "python",
   "pygments_lexer": "ipython3",
   "version": "3.12.2"
  }
 },
 "nbformat": 4,
 "nbformat_minor": 5
}
